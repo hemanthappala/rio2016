{
 "cells": [
  {
   "cell_type": "markdown",
   "metadata": {},
   "source": [
    "# Preparation of Rio 2016 data"
   ]
  },
  {
   "cell_type": "markdown",
   "metadata": {},
   "source": [
    "## Table of Contents\n",
    "\n",
    "1. [Problem Statement](#section1)<br>\n",
    "2. [Importing Packages](#section2)<br>\n",
    "3. [Loading Data](#section3)<br>"
   ]
  },
  {
   "cell_type": "markdown",
   "metadata": {},
   "source": [
    "<a id=section1></a>\n",
    "## 1. Problem Statement: Preparation of data on rio 2016 medal winners"
   ]
  },
  {
   "cell_type": "markdown",
   "metadata": {},
   "source": [
    "<a id=section2></a>\n",
    "## 2. Importing Packages"
   ]
  },
  {
   "cell_type": "code",
   "execution_count": 8,
   "metadata": {},
   "outputs": [
    {
     "name": "stdout",
     "output_type": "stream",
     "text": [
      "Requirement already up-to-date: plotly in c:\\users\\91949\\downloads\\hemanth\\anaconda\\lib\\site-packages (4.4.1)\n",
      "Requirement already satisfied, skipping upgrade: six in c:\\users\\91949\\downloads\\hemanth\\anaconda\\lib\\site-packages (from plotly) (1.12.0)\n",
      "Requirement already satisfied, skipping upgrade: retrying>=1.3.3 in c:\\users\\91949\\downloads\\hemanth\\anaconda\\lib\\site-packages (from plotly) (1.3.3)\n",
      "Requirement already satisfied: chart-studio in c:\\users\\91949\\downloads\\hemanth\\anaconda\\lib\\site-packages (1.0.0)\n",
      "Requirement already satisfied: requests in c:\\users\\91949\\downloads\\hemanth\\anaconda\\lib\\site-packages (from chart-studio) (2.22.0)\n",
      "Requirement already satisfied: retrying>=1.3.3 in c:\\users\\91949\\downloads\\hemanth\\anaconda\\lib\\site-packages (from chart-studio) (1.3.3)\n",
      "Requirement already satisfied: plotly in c:\\users\\91949\\downloads\\hemanth\\anaconda\\lib\\site-packages (from chart-studio) (4.4.1)\n",
      "Requirement already satisfied: six in c:\\users\\91949\\downloads\\hemanth\\anaconda\\lib\\site-packages (from chart-studio) (1.12.0)\n",
      "Requirement already satisfied: chardet<3.1.0,>=3.0.2 in c:\\users\\91949\\downloads\\hemanth\\anaconda\\lib\\site-packages (from requests->chart-studio) (3.0.4)\n",
      "Requirement already satisfied: urllib3!=1.25.0,!=1.25.1,<1.26,>=1.21.1 in c:\\users\\91949\\downloads\\hemanth\\anaconda\\lib\\site-packages (from requests->chart-studio) (1.24.2)\n",
      "Requirement already satisfied: certifi>=2017.4.17 in c:\\users\\91949\\downloads\\hemanth\\anaconda\\lib\\site-packages (from requests->chart-studio) (2019.6.16)\n",
      "Requirement already satisfied: idna<2.9,>=2.5 in c:\\users\\91949\\downloads\\hemanth\\anaconda\\lib\\site-packages (from requests->chart-studio) (2.8)\n"
     ]
    },
    {
     "data": {
      "text/html": [
       "        <script type=\"text/javascript\">\n",
       "        window.PlotlyConfig = {MathJaxConfig: 'local'};\n",
       "        if (window.MathJax) {MathJax.Hub.Config({SVG: {font: \"STIX-Web\"}});}\n",
       "        if (typeof require !== 'undefined') {\n",
       "        require.undef(\"plotly\");\n",
       "        requirejs.config({\n",
       "            paths: {\n",
       "                'plotly': ['https://cdn.plot.ly/plotly-latest.min']\n",
       "            }\n",
       "        });\n",
       "        require(['plotly'], function(Plotly) {\n",
       "            window._Plotly = Plotly;\n",
       "        });\n",
       "        }\n",
       "        </script>\n",
       "        "
      ]
     },
     "metadata": {},
     "output_type": "display_data"
    }
   ],
   "source": [
    "import numpy as np                     \n",
    "\n",
    "import pandas as pd\n",
    "pd.set_option('mode.chained_assignment', None)      # To suppress pandas warnings.\n",
    "pd.set_option('display.max_colwidth', -1)           # To display all the data in each column\n",
    "pd.options.display.max_columns = 50                 # To display every column of the dataset in head()\n",
    "\n",
    "import warnings\n",
    "warnings.filterwarnings('ignore')                   # To suppress all the warnings in the notebook.\n",
    "\n",
    "import matplotlib.pyplot as plt\n",
    "%matplotlib inline\n",
    "\n",
    "import seaborn as sns\n",
    "sns.set(style='whitegrid', font_scale=1.3, color_codes=True)      # To apply seaborn styles to the plots.\n",
    "\n",
    "# Install and update plotly using this command to the latest version (higher than version 4.0.0)\n",
    "\n",
    "!pip install plotly --upgrade\n",
    "\n",
    "# Install chart_studio, please use this command. \n",
    "\n",
    "!pip install chart-studio\n",
    "\n",
    "# Making plotly specific imports\n",
    "# These imports are necessary to use plotly offline without signing in to their website.\n",
    "\n",
    "from plotly.offline import init_notebook_mode, iplot\n",
    "import plotly.graph_objs as go\n",
    "import chart_studio.plotly as py\n",
    "from plotly import tools\n",
    "init_notebook_mode(connected=True)"
   ]
  },
  {
   "cell_type": "markdown",
   "metadata": {},
   "source": [
    "<a id=section3></a>\n",
    "## 3. Loading Data"
   ]
  },
  {
   "cell_type": "markdown",
   "metadata": {},
   "source": [
    "### Importing Dataset 1"
   ]
  },
  {
   "cell_type": "code",
   "execution_count": 12,
   "metadata": {},
   "outputs": [
    {
     "data": {
      "text/html": [
       "<div>\n",
       "<style scoped>\n",
       "    .dataframe tbody tr th:only-of-type {\n",
       "        vertical-align: middle;\n",
       "    }\n",
       "\n",
       "    .dataframe tbody tr th {\n",
       "        vertical-align: top;\n",
       "    }\n",
       "\n",
       "    .dataframe thead th {\n",
       "        text-align: right;\n",
       "    }\n",
       "</style>\n",
       "<table border=\"1\" class=\"dataframe\">\n",
       "  <thead>\n",
       "    <tr style=\"text-align: right;\">\n",
       "      <th></th>\n",
       "      <th>id</th>\n",
       "      <th>name</th>\n",
       "      <th>nationality</th>\n",
       "      <th>sex</th>\n",
       "      <th>date_of_birth</th>\n",
       "      <th>height</th>\n",
       "      <th>weight</th>\n",
       "      <th>sport</th>\n",
       "      <th>gold</th>\n",
       "      <th>silver</th>\n",
       "      <th>bronze</th>\n",
       "      <th>info</th>\n",
       "    </tr>\n",
       "  </thead>\n",
       "  <tbody>\n",
       "    <tr>\n",
       "      <th>0</th>\n",
       "      <td>736041664</td>\n",
       "      <td>A Jesus Garcia</td>\n",
       "      <td>ESP</td>\n",
       "      <td>male</td>\n",
       "      <td>1969-10-17</td>\n",
       "      <td>1.72</td>\n",
       "      <td>64.0</td>\n",
       "      <td>athletics</td>\n",
       "      <td>0</td>\n",
       "      <td>0</td>\n",
       "      <td>0</td>\n",
       "      <td>NaN</td>\n",
       "    </tr>\n",
       "    <tr>\n",
       "      <th>1</th>\n",
       "      <td>532037425</td>\n",
       "      <td>A Lam Shin</td>\n",
       "      <td>KOR</td>\n",
       "      <td>female</td>\n",
       "      <td>1986-09-23</td>\n",
       "      <td>1.68</td>\n",
       "      <td>56.0</td>\n",
       "      <td>fencing</td>\n",
       "      <td>0</td>\n",
       "      <td>0</td>\n",
       "      <td>0</td>\n",
       "      <td>NaN</td>\n",
       "    </tr>\n",
       "    <tr>\n",
       "      <th>2</th>\n",
       "      <td>435962603</td>\n",
       "      <td>Aaron Brown</td>\n",
       "      <td>CAN</td>\n",
       "      <td>male</td>\n",
       "      <td>1992-05-27</td>\n",
       "      <td>1.98</td>\n",
       "      <td>79.0</td>\n",
       "      <td>athletics</td>\n",
       "      <td>0</td>\n",
       "      <td>0</td>\n",
       "      <td>1</td>\n",
       "      <td>NaN</td>\n",
       "    </tr>\n",
       "    <tr>\n",
       "      <th>3</th>\n",
       "      <td>521041435</td>\n",
       "      <td>Aaron Cook</td>\n",
       "      <td>MDA</td>\n",
       "      <td>male</td>\n",
       "      <td>1991-01-02</td>\n",
       "      <td>1.83</td>\n",
       "      <td>80.0</td>\n",
       "      <td>taekwondo</td>\n",
       "      <td>0</td>\n",
       "      <td>0</td>\n",
       "      <td>0</td>\n",
       "      <td>NaN</td>\n",
       "    </tr>\n",
       "    <tr>\n",
       "      <th>4</th>\n",
       "      <td>33922579</td>\n",
       "      <td>Aaron Gate</td>\n",
       "      <td>NZL</td>\n",
       "      <td>male</td>\n",
       "      <td>1990-11-26</td>\n",
       "      <td>1.81</td>\n",
       "      <td>71.0</td>\n",
       "      <td>cycling</td>\n",
       "      <td>0</td>\n",
       "      <td>0</td>\n",
       "      <td>0</td>\n",
       "      <td>NaN</td>\n",
       "    </tr>\n",
       "  </tbody>\n",
       "</table>\n",
       "</div>"
      ],
      "text/plain": [
       "          id            name nationality     sex date_of_birth  height  \\\n",
       "0  736041664  A Jesus Garcia  ESP         male    1969-10-17    1.72     \n",
       "1  532037425  A Lam Shin      KOR         female  1986-09-23    1.68     \n",
       "2  435962603  Aaron Brown     CAN         male    1992-05-27    1.98     \n",
       "3  521041435  Aaron Cook      MDA         male    1991-01-02    1.83     \n",
       "4  33922579   Aaron Gate      NZL         male    1990-11-26    1.81     \n",
       "\n",
       "   weight      sport  gold  silver  bronze info  \n",
       "0  64.0    athletics  0     0       0       NaN  \n",
       "1  56.0    fencing    0     0       0       NaN  \n",
       "2  79.0    athletics  0     0       1       NaN  \n",
       "3  80.0    taekwondo  0     0       0       NaN  \n",
       "4  71.0    cycling    0     0       0       NaN  "
      ]
     },
     "execution_count": 12,
     "metadata": {},
     "output_type": "execute_result"
    }
   ],
   "source": [
    "# Importing the dataset (on 2016 Olympics athletes data).\n",
    "\n",
    "df_data = pd.read_csv(\"https://raw.githubusercontent.com/hemanthappala/rio2016/master/athletes.csv\")\n",
    "df_data.head()"
   ]
  },
  {
   "cell_type": "markdown",
   "metadata": {},
   "source": [
    "### Importing Dataset 2"
   ]
  },
  {
   "cell_type": "code",
   "execution_count": 14,
   "metadata": {},
   "outputs": [
    {
     "data": {
      "text/html": [
       "<div>\n",
       "<style scoped>\n",
       "    .dataframe tbody tr th:only-of-type {\n",
       "        vertical-align: middle;\n",
       "    }\n",
       "\n",
       "    .dataframe tbody tr th {\n",
       "        vertical-align: top;\n",
       "    }\n",
       "\n",
       "    .dataframe thead th {\n",
       "        text-align: right;\n",
       "    }\n",
       "</style>\n",
       "<table border=\"1\" class=\"dataframe\">\n",
       "  <thead>\n",
       "    <tr style=\"text-align: right;\">\n",
       "      <th></th>\n",
       "      <th>id</th>\n",
       "      <th>sport</th>\n",
       "      <th>discipline</th>\n",
       "      <th>name</th>\n",
       "      <th>sex</th>\n",
       "      <th>venues</th>\n",
       "    </tr>\n",
       "  </thead>\n",
       "  <tbody>\n",
       "    <tr>\n",
       "      <th>0</th>\n",
       "      <td>701492</td>\n",
       "      <td>aquatics</td>\n",
       "      <td>backstroke</td>\n",
       "      <td>Women's 100m Backstroke</td>\n",
       "      <td>female</td>\n",
       "      <td>Olympic Aquatics Stadium</td>\n",
       "    </tr>\n",
       "    <tr>\n",
       "      <th>1</th>\n",
       "      <td>305278</td>\n",
       "      <td>aquatics</td>\n",
       "      <td>backstroke</td>\n",
       "      <td>Women's 200m Backstroke</td>\n",
       "      <td>female</td>\n",
       "      <td>Olympic Aquatics Stadium</td>\n",
       "    </tr>\n",
       "    <tr>\n",
       "      <th>2</th>\n",
       "      <td>708010</td>\n",
       "      <td>aquatics</td>\n",
       "      <td>backstroke</td>\n",
       "      <td>Men's 100m Backstroke</td>\n",
       "      <td>male</td>\n",
       "      <td>Olympic Aquatics Stadium</td>\n",
       "    </tr>\n",
       "    <tr>\n",
       "      <th>3</th>\n",
       "      <td>729643</td>\n",
       "      <td>aquatics</td>\n",
       "      <td>backstroke</td>\n",
       "      <td>Men's 200m Backstroke</td>\n",
       "      <td>male</td>\n",
       "      <td>Olympic Aquatics Stadium</td>\n",
       "    </tr>\n",
       "    <tr>\n",
       "      <th>4</th>\n",
       "      <td>567019</td>\n",
       "      <td>aquatics</td>\n",
       "      <td>breaststroke</td>\n",
       "      <td>Women's 100m Breaststroke</td>\n",
       "      <td>female</td>\n",
       "      <td>Olympic Aquatics Stadium</td>\n",
       "    </tr>\n",
       "  </tbody>\n",
       "</table>\n",
       "</div>"
      ],
      "text/plain": [
       "       id     sport    discipline                       name     sex  \\\n",
       "0  701492  aquatics  backstroke    Women's 100m Backstroke    female   \n",
       "1  305278  aquatics  backstroke    Women's 200m Backstroke    female   \n",
       "2  708010  aquatics  backstroke    Men's 100m Backstroke      male     \n",
       "3  729643  aquatics  backstroke    Men's 200m Backstroke      male     \n",
       "4  567019  aquatics  breaststroke  Women's 100m Breaststroke  female   \n",
       "\n",
       "                     venues  \n",
       "0  Olympic Aquatics Stadium  \n",
       "1  Olympic Aquatics Stadium  \n",
       "2  Olympic Aquatics Stadium  \n",
       "3  Olympic Aquatics Stadium  \n",
       "4  Olympic Aquatics Stadium  "
      ]
     },
     "execution_count": 14,
     "metadata": {},
     "output_type": "execute_result"
    }
   ],
   "source": [
    "# Importing the dataset (on 2016 Olympics events data).\n",
    "\n",
    "df_data = pd.read_csv(\"https://raw.githubusercontent.com/hemanthappala/rio2016/master/events.csv\")\n",
    "df_data.head()"
   ]
  }
 ],
 "metadata": {
  "kernelspec": {
   "display_name": "Python 3",
   "language": "python",
   "name": "python3"
  },
  "language_info": {
   "codemirror_mode": {
    "name": "ipython",
    "version": 3
   },
   "file_extension": ".py",
   "mimetype": "text/x-python",
   "name": "python",
   "nbconvert_exporter": "python",
   "pygments_lexer": "ipython3",
   "version": "3.7.3"
  }
 },
 "nbformat": 4,
 "nbformat_minor": 2
}
